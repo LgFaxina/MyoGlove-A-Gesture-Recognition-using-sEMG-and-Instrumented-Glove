{
 "cells": [
  {
   "cell_type": "markdown",
   "id": "7f341cc8-e2ff-45ed-aeb0-9eadffac12ae",
   "metadata": {},
   "source": [
    "# Análise da taxa de aquisição das Luvas e MYO"
   ]
  },
  {
   "cell_type": "markdown",
   "id": "c8d482ec-63b1-431b-ae9a-e9ff274be0f9",
   "metadata": {},
   "source": [
    "#### Os dataframes foram criados rodando o código em python de aquisição via bluetooth em amostras de 10 segundos. \n",
    "#### Para cada dispositivo foram coletados 5 amostras\n",
    "#### Nas coletas Luvas + Myo foi utilizado Threads em Python"
   ]
  },
  {
   "cell_type": "code",
   "execution_count": 39,
   "id": "5d48dbee-25d2-472d-9197-66d4dc617c28",
   "metadata": {},
   "outputs": [],
   "source": [
    "#importar bibliotecas\n",
    "import numpy as np\n",
    "import pandas as pd\n",
    "import matplotlib.pyplot as plt\n",
    "\n",
    "### Settings\n",
    "\n",
    "# Location of dataset\n",
    "DATASET_PATH = r\"C:\\Users\\luigi\\Documents\\2023\\TCC-Luigi\\get_Myo_and_GlovesESP\\Data\"\n",
    "\n",
    "#importar arquivos csv\n",
    "df_lg_1 = pd.read_csv(DATASET_PATH+'/teste-frequencia-codigo1_c1_10s_deviceLG.csv')\n",
    "df_lg_2 = pd.read_csv(DATASET_PATH+'/teste-frequencia-codigo1_c2_10s_deviceLG.csv')\n",
    "df_lg_3 = pd.read_csv(DATASET_PATH+'/teste-frequencia-codigo1_c3_10s_deviceLG.csv')\n",
    "df_lg_4 = pd.read_csv(DATASET_PATH+'/teste-frequencia-codigo1_c4_10s_deviceLG.csv')\n",
    "df_lg_5 = pd.read_csv(DATASET_PATH+'/teste-frequencia-codigo1_c5_10s_deviceLG.csv')\n",
    "\n",
    "df_rg_1 = pd.read_csv(DATASET_PATH+'/teste-frequencia-codigo1_c1_10s_deviceRG.csv')\n",
    "df_rg_2 = pd.read_csv(DATASET_PATH+'/teste-frequencia-codigo1_c2_10s_deviceRG.csv')\n",
    "df_rg_3 = pd.read_csv(DATASET_PATH+'/teste-frequencia-codigo1_c3_10s_deviceRG.csv')\n",
    "df_rg_4 = pd.read_csv(DATASET_PATH+'/teste-frequencia-codigo1_c4_10s_deviceRG.csv')\n",
    "df_rg_5 = pd.read_csv(DATASET_PATH+'/teste-frequencia-codigo1_c5_10s_deviceRG.csv')\n",
    "\n",
    "df_lg_rg_1 = pd.read_csv(DATASET_PATH+'/teste-frequencia-codigo1_c1_10s_deviceLG+RG.csv')\n",
    "df_lg_rg_2 = pd.read_csv(DATASET_PATH+'/teste-frequencia-codigo1_c2_10s_deviceLG+RG.csv')\n",
    "df_lg_rg_3 = pd.read_csv(DATASET_PATH+'/teste-frequencia-codigo1_c3_10s_deviceLG+RG.csv')\n",
    "df_lg_rg_4 = pd.read_csv(DATASET_PATH+'/teste-frequencia-codigo1_c4_10s_deviceLG+RG.csv')\n",
    "df_lg_rg_5 = pd.read_csv(DATASET_PATH+'/teste-frequencia-codigo1_c5_10s_deviceLG+RG.csv')\n",
    "\n",
    "df_myo_1 = pd.read_csv(DATASET_PATH+'/Emg_2.csv')\n",
    "df_myo_2 = pd.read_csv(DATASET_PATH+'/Emg_3.csv')\n",
    "df_myo_3 = pd.read_csv(DATASET_PATH+'/Emg_4.csv')\n",
    "df_myo_4 = pd.read_csv(DATASET_PATH+'/Emg_5.csv')\n",
    "df_myo_5 = pd.read_csv(DATASET_PATH+'/Emg_6.csv')\n",
    "\n",
    "df_completo_luvas_1 = pd.read_csv(DATASET_PATH+'/teste-frequencia-codigo1_c1_10s_deviceLG+RG+Myo.csv')\n",
    "df_completo_luvas_2 = pd.read_csv(DATASET_PATH+'/teste-frequencia-codigo1_c2_10s_deviceLG+RG+Myo.csv')\n",
    "df_completo_luvas_3 = pd.read_csv(DATASET_PATH+'/teste-frequencia-codigo1_c3_10s_deviceLG+RG+Myo.csv')\n",
    "df_completo_luvas_4 = pd.read_csv(DATASET_PATH+'/teste-frequencia-codigo1_c4_10s_deviceLG+RG+Myo.csv')\n",
    "df_completo_luvas_5 = pd.read_csv(DATASET_PATH+'/teste-frequencia-codigo1_c5_10s_deviceLG+RG+Myo.csv')\n",
    "\n",
    "df_completo_myo_1 = pd.read_csv(DATASET_PATH+'/Emg_7.csv')\n",
    "df_completo_myo_2 = pd.read_csv(DATASET_PATH+'/Emg_8.csv')\n",
    "df_completo_myo_3 = pd.read_csv(DATASET_PATH+'/Emg_9.csv')\n",
    "df_completo_myo_4 = pd.read_csv(DATASET_PATH+'/Emg_10.csv')\n",
    "df_completo_myo_5 = pd.read_csv(DATASET_PATH+'/Emg_11.csv')\n",
    "\n",
    "df_compilado_1 = pd.read_csv(DATASET_PATH+'/[COMPILADO]teste-frequencia-codigo1_c1_10s_deviceLG+RG+Myo.csv')\n",
    "df_compilado_2 = pd.read_csv(DATASET_PATH+'/[COMPILADO]teste-frequencia-codigo1_c2_10s_deviceLG+RG+Myo.csv')\n",
    "df_compilado_3 = pd.read_csv(DATASET_PATH+'/[COMPILADO]teste-frequencia-codigo1_c3_10s_deviceLG+RG+Myo.csv')\n",
    "df_compilado_4 = pd.read_csv(DATASET_PATH+'/[COMPILADO]teste-frequencia-codigo1_c4_10s_deviceLG+RG+Myo.csv')\n",
    "df_compilado_5 = pd.read_csv(DATASET_PATH+'/[COMPILADO]teste-frequencia-codigo1_c5_10s_deviceLG+RG+Myo.csv')"
   ]
  },
  {
   "cell_type": "markdown",
   "id": "39101574-595e-43fa-86fd-d4d3d3713c79",
   "metadata": {},
   "source": [
    "## Tamanho dos Dataframes, em amostras realizadas em um período de 10 segundos:"
   ]
  },
  {
   "cell_type": "markdown",
   "id": "448fa7a2-a1ea-4a3a-941e-ccbcdd91bf49",
   "metadata": {},
   "source": [
    "### Luva esquerda"
   ]
  },
  {
   "cell_type": "code",
   "execution_count": 57,
   "id": "cec36c63-5fa6-4243-832c-3a9fe0118cbd",
   "metadata": {},
   "outputs": [
    {
     "data": {
      "text/plain": [
       "(875, 825, 900, 875, 900)"
      ]
     },
     "execution_count": 57,
     "metadata": {},
     "output_type": "execute_result"
    }
   ],
   "source": [
    "len(df_lg_1),len(df_lg_2),len(df_lg_3),len(df_lg_4),len(df_lg_5)"
   ]
  },
  {
   "cell_type": "code",
   "execution_count": 45,
   "id": "cd12c8f5-250f-40c5-831a-67dd33a6493f",
   "metadata": {},
   "outputs": [
    {
     "data": {
      "text/plain": [
       "875.0"
      ]
     },
     "execution_count": 45,
     "metadata": {},
     "output_type": "execute_result"
    }
   ],
   "source": [
    "(len(df_lg_1)+len(df_lg_2)+len(df_lg_3)+len(df_lg_4)+len(df_lg_5))/5"
   ]
  },
  {
   "cell_type": "markdown",
   "id": "02d4f4d6-85fd-4abd-98de-800f5cbbf231",
   "metadata": {},
   "source": [
    "Máximo:90Hz\n",
    "\n",
    "Média: 87,5Hz"
   ]
  },
  {
   "cell_type": "markdown",
   "id": "cb503ff9-f782-4030-8322-b4a3b032bb5b",
   "metadata": {},
   "source": [
    "### Luva direita"
   ]
  },
  {
   "cell_type": "code",
   "execution_count": 56,
   "id": "71256dc2-a0d6-4939-9a4c-fc207324934a",
   "metadata": {},
   "outputs": [
    {
     "data": {
      "text/plain": [
       "(895, 905, 885, 905, 910)"
      ]
     },
     "execution_count": 56,
     "metadata": {},
     "output_type": "execute_result"
    }
   ],
   "source": [
    "len(df_rg_1),len(df_rg_2),len(df_rg_3),len(df_rg_4),len(df_rg_5)"
   ]
  },
  {
   "cell_type": "code",
   "execution_count": 58,
   "id": "6928c119-2be4-4ee0-8ff5-5babba3119a7",
   "metadata": {},
   "outputs": [
    {
     "data": {
      "text/plain": [
       "900.0"
      ]
     },
     "execution_count": 58,
     "metadata": {},
     "output_type": "execute_result"
    }
   ],
   "source": [
    "(len(df_rg_1)+len(df_rg_2)+len(df_rg_3)+len(df_rg_4)+len(df_rg_5))/5"
   ]
  },
  {
   "cell_type": "markdown",
   "id": "54b32f1b-3a94-4223-9a64-47c8ef5dd0d8",
   "metadata": {},
   "source": [
    "Máximo:91Hz\n",
    "\n",
    "Média: 90Hz"
   ]
  },
  {
   "cell_type": "markdown",
   "id": "b2736eae-0759-44ef-be39-c1d721aaeeb9",
   "metadata": {},
   "source": [
    "### Luva esquerda + direita"
   ]
  },
  {
   "cell_type": "code",
   "execution_count": 66,
   "id": "37d14a58-614a-4a8d-b334-ac337fbbda1f",
   "metadata": {},
   "outputs": [
    {
     "data": {
      "text/plain": [
       "(890, 835, 875, 875, 890)"
      ]
     },
     "execution_count": 66,
     "metadata": {},
     "output_type": "execute_result"
    }
   ],
   "source": [
    "len(df_lg_rg_1),len(df_lg_rg_2),len(df_lg_rg_3),len(df_lg_rg_4),len(df_lg_rg_5)"
   ]
  },
  {
   "cell_type": "code",
   "execution_count": 67,
   "id": "f7e88d49-90c5-4ace-804a-5564d217f2fe",
   "metadata": {},
   "outputs": [
    {
     "data": {
      "text/plain": [
       "873.0"
      ]
     },
     "execution_count": 67,
     "metadata": {},
     "output_type": "execute_result"
    }
   ],
   "source": [
    "(len(df_lg_rg_1)+len(df_lg_rg_2)+len(df_lg_rg_3)+len(df_lg_rg_4)+len(df_lg_rg_5))/5"
   ]
  },
  {
   "cell_type": "markdown",
   "id": "428738eb-ca0b-4aad-9141-001b3fbec84d",
   "metadata": {},
   "source": [
    "Máximo:89Hz\n",
    "\n",
    "Média: 87,3Hz"
   ]
  },
  {
   "cell_type": "markdown",
   "id": "398e178b-6e0c-4664-953a-c4cab8f34a9d",
   "metadata": {},
   "source": [
    "### Myo"
   ]
  },
  {
   "cell_type": "code",
   "execution_count": 59,
   "id": "c2dd7687-2ff1-4016-a9ba-0592d8da26ad",
   "metadata": {},
   "outputs": [
    {
     "data": {
      "text/plain": [
       "(1998, 1998, 1998, 2000, 1992)"
      ]
     },
     "execution_count": 59,
     "metadata": {},
     "output_type": "execute_result"
    }
   ],
   "source": [
    "len(df_myo_1),len(df_myo_2),len(df_myo_3),len(df_myo_4),len(df_myo_5)"
   ]
  },
  {
   "cell_type": "code",
   "execution_count": 60,
   "id": "c176f7d1-8626-40af-942e-34ac71fc894e",
   "metadata": {},
   "outputs": [
    {
     "data": {
      "text/plain": [
       "1997.2"
      ]
     },
     "execution_count": 60,
     "metadata": {},
     "output_type": "execute_result"
    }
   ],
   "source": [
    "(len(df_myo_1)+len(df_myo_2)+len(df_myo_3)+len(df_myo_4)+len(df_myo_5))/5"
   ]
  },
  {
   "cell_type": "markdown",
   "id": "75df0e0d-8fcd-4fc4-a85d-8e493438e384",
   "metadata": {},
   "source": [
    "Máximo:200Hz\n",
    "\n",
    "Média: 199,7Hz"
   ]
  },
  {
   "cell_type": "markdown",
   "id": "939aa895-f02a-4da3-a7a5-a186f10656c3",
   "metadata": {},
   "source": [
    "### Luvas + Myo"
   ]
  },
  {
   "cell_type": "code",
   "execution_count": 62,
   "id": "f4b9a9a2-ccc3-4d61-967b-75302dd7b56d",
   "metadata": {},
   "outputs": [
    {
     "data": {
      "text/plain": [
       "(600, 650, 370, 615, 630)"
      ]
     },
     "execution_count": 62,
     "metadata": {},
     "output_type": "execute_result"
    }
   ],
   "source": [
    "len(df_completo_luvas_1),len(df_completo_luvas_2),len(df_completo_luvas_3),len(df_completo_luvas_4),len(df_completo_luvas_5)"
   ]
  },
  {
   "cell_type": "code",
   "execution_count": 63,
   "id": "13014b1b-c552-4701-b9da-1f1c4544a411",
   "metadata": {},
   "outputs": [
    {
     "data": {
      "text/plain": [
       "573.0"
      ]
     },
     "execution_count": 63,
     "metadata": {},
     "output_type": "execute_result"
    }
   ],
   "source": [
    "(len(df_completo_luvas_1)+len(df_completo_luvas_2)+len(df_completo_luvas_3)+len(df_completo_luvas_4)+len(df_completo_luvas_5))/5"
   ]
  },
  {
   "cell_type": "code",
   "execution_count": 64,
   "id": "bbdd812a-6ece-47e8-8709-b253e766f6df",
   "metadata": {},
   "outputs": [
    {
     "data": {
      "text/plain": [
       "(2000, 2000, 1962, 1992, 2000)"
      ]
     },
     "execution_count": 64,
     "metadata": {},
     "output_type": "execute_result"
    }
   ],
   "source": [
    "len(df_completo_myo_1),len(df_completo_myo_2),len(df_completo_myo_3),len(df_completo_myo_4),len(df_completo_myo_5)"
   ]
  },
  {
   "cell_type": "code",
   "execution_count": 65,
   "id": "a30c4ee5-b7c6-4469-b3f7-2f0e28ff4628",
   "metadata": {},
   "outputs": [
    {
     "data": {
      "text/plain": [
       "1990.8"
      ]
     },
     "execution_count": 65,
     "metadata": {},
     "output_type": "execute_result"
    }
   ],
   "source": [
    "(len(df_completo_myo_1)+len(df_completo_myo_2)+len(df_completo_myo_3)+len(df_completo_myo_4)+len(df_completo_myo_5))/5"
   ]
  },
  {
   "cell_type": "markdown",
   "id": "1dfb3355-dd5d-4bb2-a175-4f0404a1a9ed",
   "metadata": {},
   "source": [
    "Luvas:\n",
    "Máximo:63Hz\n",
    "Média: 57,3Hz\n",
    "Myo:\n",
    "Máximo:200Hz\n",
    "Média: 199,1Hz\n"
   ]
  },
  {
   "cell_type": "code",
   "execution_count": 83,
   "id": "ed8f5263-21b5-4e38-9319-170a3ecd1524",
   "metadata": {},
   "outputs": [
    {
     "data": {
      "text/plain": [
       "34.36426116838488"
      ]
     },
     "execution_count": 83,
     "metadata": {},
     "output_type": "execute_result"
    }
   ],
   "source": [
    "(1-(57.3/87.3))*100"
   ]
  },
  {
   "cell_type": "markdown",
   "id": "91be7ed2-aaf3-4a24-b3ac-529ecfffa799",
   "metadata": {},
   "source": [
    "## Utilizando Threads temos uma queda de 34,36% na taxa de aquisição das luvas, de 87,3Hz para 57,3Hz"
   ]
  }
 ],
 "metadata": {
  "kernelspec": {
   "display_name": "Python 3 (ipykernel)",
   "language": "python",
   "name": "python3"
  },
  "language_info": {
   "codemirror_mode": {
    "name": "ipython",
    "version": 3
   },
   "file_extension": ".py",
   "mimetype": "text/x-python",
   "name": "python",
   "nbconvert_exporter": "python",
   "pygments_lexer": "ipython3",
   "version": "3.10.4"
  }
 },
 "nbformat": 4,
 "nbformat_minor": 5
}
